{
  "nbformat": 4,
  "nbformat_minor": 0,
  "metadata": {
    "colab": {
      "provenance": [],
      "gpuType": "T4",
      "authorship_tag": "ABX9TyNvs70FXEqlLydjhgUZ6Qrk",
      "include_colab_link": true
    },
    "kernelspec": {
      "name": "python3",
      "display_name": "Python 3"
    },
    "language_info": {
      "name": "python"
    },
    "accelerator": "GPU"
  },
  "cells": [
    {
      "cell_type": "markdown",
      "metadata": {
        "id": "view-in-github",
        "colab_type": "text"
      },
      "source": [
        "<a href=\"https://colab.research.google.com/github/ClothildeCh/Thesis/blob/main/Results_Evaluation.ipynb\" target=\"_parent\"><img src=\"https://colab.research.google.com/assets/colab-badge.svg\" alt=\"Open In Colab\"/></a>"
      ]
    },
    {
      "cell_type": "markdown",
      "source": [
        "# Header"
      ],
      "metadata": {
        "id": "AW2INQeB0vVq"
      }
    },
    {
      "cell_type": "markdown",
      "source": [
        "Load Gold Test,\n",
        "T5 wrap reviews,\n",
        "Load model and tokenizer\n"
      ],
      "metadata": {
        "id": "T1t3yrgczPwa"
      }
    },
    {
      "cell_type": "code",
      "source": [
        "from google.colab import drive\n",
        "#drive.mount(\"/content/drive\")\n",
        "drive.mount(\"/content/drive\", force_remount=True)"
      ],
      "metadata": {
        "colab": {
          "base_uri": "https://localhost:8080/"
        },
        "id": "DIRFjIC-Cy6X",
        "outputId": "ad884265-d755-4287-a072-9d23f86797ab"
      },
      "execution_count": null,
      "outputs": [
        {
          "output_type": "stream",
          "name": "stdout",
          "text": [
            "Mounted at /content/drive\n"
          ]
        }
      ]
    },
    {
      "cell_type": "code",
      "source": [
        "! pip install datasets ftfy"
      ],
      "metadata": {
        "collapsed": true,
        "id": "4vWW5KTXNo7Z"
      },
      "execution_count": null,
      "outputs": []
    },
    {
      "cell_type": "code",
      "source": [
        "# Core Libraries\n",
        "import pandas as pd\n",
        "import json\n",
        "from collections import defaultdict\n",
        "from sklearn.model_selection import train_test_split\n",
        "import matplotlib.pyplot as plt\n",
        "import re\n",
        "\n",
        "# Transformers\n",
        "from transformers import (\n",
        "    T5Tokenizer,\n",
        "    T5ForConditionalGeneration,\n",
        "    Seq2SeqTrainingArguments,\n",
        "    Seq2SeqTrainer,\n",
        "    DataCollatorForSeq2Seq\n",
        ")\n",
        "\n",
        "\n",
        "# Datasets\n",
        "from datasets import Dataset\n",
        "\n",
        "# Weird Unicode Cleaning\n",
        "from ftfy import fix_text\n",
        "\n",
        "# evaluations\n",
        "from sklearn.metrics import accuracy_score\n",
        "from difflib import SequenceMatcher"
      ],
      "metadata": {
        "id": "G7R0jpoHDkQd"
      },
      "execution_count": null,
      "outputs": []
    },
    {
      "cell_type": "markdown",
      "source": [
        "A. Load and Clean Gold Test Set (Aspect-Level)"
      ],
      "metadata": {
        "id": "J7e5NqgPnKJv"
      }
    },
    {
      "cell_type": "code",
      "source": [
        "# Step 1: Load the aspect-level gold test set\n",
        "test_gold_df = pd.read_csv(\"/content/drive/MyDrive/acosqe/evaluation/GOLD_TEST.csv\")\n",
        "test_gold_df.head()"
      ],
      "metadata": {
        "id": "5jm_oT_x4ntF"
      },
      "execution_count": null,
      "outputs": []
    },
    {
      "cell_type": "code",
      "source": [
        "# Step 2: Clean and normalize fields\n",
        "test_gold_df[\"Review Text\"] = test_gold_df[\"Review Text\"].astype(str).str.strip()\n",
        "for col in [\"Aspect Term\", \"Aspect Category\", \"Opinion Term\", \"Sentiment Polarity\"]:\n",
        "    test_gold_df[col] = test_gold_df[col].astype(str).str.strip()\n",
        "test_gold_df[\"Sentiment Polarity\"] = test_gold_df[\"Sentiment Polarity\"].str.lower()\n",
        "test_gold_df.shape, test_gold_df.head()"
      ],
      "metadata": {
        "id": "szATSGM-4v8n"
      },
      "execution_count": null,
      "outputs": []
    },
    {
      "cell_type": "code",
      "source": [
        "# Step 3: Group quads per review in SSEP format\n",
        "gold_grouped = defaultdict(list)\n",
        "for _, row in test_gold_df.iterrows():\n",
        "    quad = f\"{row['Aspect Term']}##{row['Aspect Category']}##{row['Opinion Term']}##{row['Sentiment Polarity']}\"\n",
        "    gold_grouped[row[\"Review Text\"]].append(quad)\n"
      ],
      "metadata": {
        "id": "K2Dyp16x6slN"
      },
      "execution_count": null,
      "outputs": []
    },
    {
      "cell_type": "code",
      "source": [
        "# Step 4: Create a review-level DataFrame with Gold_v4\n",
        "gold_review_df = pd.DataFrame({\n",
        "    \"Review Text\": list(gold_grouped.keys()),\n",
        "    \"Gold_labels\": [\" [SSEP] \".join(quads) for quads in gold_grouped.values()]\n",
        "})\n",
        "gold_review_df.shape, gold_review_df.head()"
      ],
      "metadata": {
        "id": "-o12voOV6uP_"
      },
      "execution_count": null,
      "outputs": []
    },
    {
      "cell_type": "code",
      "source": [
        "# Sanity check\n",
        "gold_review_df.head()\n"
      ],
      "metadata": {
        "id": "a7fehtd56xyo"
      },
      "execution_count": null,
      "outputs": []
    },
    {
      "cell_type": "code",
      "source": [
        "!ls -lh /content/drive/MyDrive/acosqe/outputs_v4/"
      ],
      "metadata": {
        "colab": {
          "base_uri": "https://localhost:8080/"
        },
        "id": "AazPieAzQ-6K",
        "outputId": "47da80a3-1f4c-4c15-e857-84965a4a4e06"
      },
      "execution_count": null,
      "outputs": [
        {
          "output_type": "stream",
          "name": "stdout",
          "text": [
            "total 20K\n",
            "drwx------ 2 root root 4.0K Apr  9 21:06 best_model_v4\n",
            "drwx------ 2 root root 4.0K Apr 12 22:27 checkpoint-1180\n",
            "drwx------ 2 root root 4.0K Apr 12 22:32 checkpoint-2360\n",
            "drwx------ 2 root root 4.0K Apr 12 22:34 checkpoint-2655\n",
            "drwx------ 2 root root 4.0K Apr 12 22:35 checkpoint-2950\n"
          ]
        }
      ]
    },
    {
      "cell_type": "code",
      "source": [
        "# Reload best model\n",
        "model = T5ForConditionalGeneration.from_pretrained(\n",
        "    \"/content/drive/MyDrive/acosqe/outputs_v4/best_model_v4/\"\n",
        ").to(\"cuda\")\n",
        "tokenizer = T5Tokenizer.from_pretrained(\n",
        "    \"/content/drive/MyDrive/acosqe/outputs_v4/best_model_v4/\"\n",
        ")"
      ],
      "metadata": {
        "id": "DbF3pms8DL4t"
      },
      "execution_count": null,
      "outputs": []
    },
    {
      "cell_type": "markdown",
      "source": [
        "Step 2: Create Unique Review List for Model Prediction"
      ],
      "metadata": {
        "id": "1Y9r6x9xnQhm"
      }
    },
    {
      "cell_type": "code",
      "source": [
        "unique_reviews = gold_review_df[\"Review Text\"].drop_duplicates().tolist()\n",
        "\n",
        "def with_prompt(review_text):\n",
        "    return (\n",
        "        \"Extract all aspect-category-opinion-sentiment quadruples from the following review. \"\n",
        "        \"Format each as: aspect##category##opinion##sentiment. Use [SSEP] to separate multiple quads.\\n\\n\"\n",
        "        + review_text.strip()\n",
        "    )\n",
        "\n",
        "test_reviews_prompted = [with_prompt(r) for r in unique_reviews]\n"
      ],
      "metadata": {
        "id": "dwxTtcJYnRXT"
      },
      "execution_count": null,
      "outputs": []
    },
    {
      "cell_type": "code",
      "source": [
        "print(test_reviews_prompted)"
      ],
      "metadata": {
        "id": "NKQ4bcN2WiKm"
      },
      "execution_count": null,
      "outputs": []
    },
    {
      "cell_type": "markdown",
      "source": [
        "Step 3: Generate Predictions"
      ],
      "metadata": {
        "id": "Ei60P2minUb7"
      }
    },
    {
      "cell_type": "code",
      "source": [
        "#(Assuming you have already reloaded the model and tokenizer)\n",
        "# Tokenize and run model\n",
        "inputs = tokenizer(test_reviews_prompted, return_tensors=\"pt\", padding=True, truncation=True).to(model.device)\n",
        "outputs = model.generate(input_ids=inputs[\"input_ids\"], attention_mask=inputs[\"attention_mask\"], max_length=256)\n",
        "decoded_preds = tokenizer.batch_decode(outputs, skip_special_tokens=True)\n",
        "\n",
        "# Create prediction dataframe\n",
        "pred_df = pd.DataFrame({\n",
        "    \"Review Text\": unique_reviews,\n",
        "    \"Prediction_v4\": decoded_preds\n",
        "})"
      ],
      "metadata": {
        "id": "wSMvIHP9nUND"
      },
      "execution_count": null,
      "outputs": []
    },
    {
      "cell_type": "code",
      "source": [
        "pred_df.head()"
      ],
      "metadata": {
        "id": "m-fELmvqBMcP"
      },
      "execution_count": null,
      "outputs": []
    },
    {
      "cell_type": "code",
      "source": [
        "# Save predictions if needed\n",
        "pred_df[[\"Review Text\", \"Prediction_v4\"]].to_csv(\n",
        "    \"/content/drive/MyDrive/acosqe/eval_outputs/predictions_big_gold_v4.csv\", index=False\n",
        ")"
      ],
      "metadata": {
        "id": "RQz6-a5e45Bn"
      },
      "execution_count": null,
      "outputs": []
    },
    {
      "cell_type": "markdown",
      "source": [
        "Step 4: Merge Predictions Back to Gold"
      ],
      "metadata": {
        "id": "H5or5gicnkXi"
      }
    },
    {
      "cell_type": "code",
      "source": [
        "# pred_df: DataFrame with columns [\"Review Text\", \"Prediction_v4\"]\n",
        "eval_df = gold_review_df.merge(pred_df, on=\"Review Text\", how=\"left\")"
      ],
      "metadata": {
        "id": "iDB_OrBc2AKv"
      },
      "execution_count": null,
      "outputs": []
    },
    {
      "cell_type": "code",
      "source": [
        "eval_df.head()"
      ],
      "metadata": {
        "id": "-9BgcI-mni41"
      },
      "execution_count": null,
      "outputs": []
    },
    {
      "cell_type": "markdown",
      "source": [
        "# 1. Exact Match Accuracy"
      ],
      "metadata": {
        "id": "ZV9C40h-yTbV"
      }
    },
    {
      "cell_type": "code",
      "source": [
        "# Clean up: strip leading/trailing whitespace for safe comparison\n",
        "eval_df[\"Gold_labels\"] = eval_df[\"Gold_labels\"].astype(str).str.strip()\n",
        "eval_df[\"Prediction_v4\"] = eval_df[\"Prediction_v4\"].astype(str).str.strip()\n",
        "\n",
        "# Compute binary exact match per row\n",
        "eval_df[\"Exact_Match\"] = eval_df[\"Gold_labels\"] == eval_df[\"Prediction_v4\"]\n",
        "\n",
        "# Compute overall accuracy\n",
        "exact_match_accuracy = eval_df[\"Exact_Match\"].mean()\n",
        "\n",
        "# Print result\n",
        "print(f\"Exact Match Accuracy: {exact_match_accuracy * 100:.2f}%\")"
      ],
      "metadata": {
        "id": "C4VV3fcvzPhR",
        "colab": {
          "base_uri": "https://localhost:8080/"
        },
        "outputId": "a597b9ae-de63-4203-e722-5c0a0f970a88"
      },
      "execution_count": null,
      "outputs": [
        {
          "output_type": "stream",
          "name": "stdout",
          "text": [
            "Exact Match Accuracy: 2.26%\n"
          ]
        }
      ]
    },
    {
      "cell_type": "markdown",
      "source": [
        "# 2. Per-Quad F1 Score"
      ],
      "metadata": {
        "id": "5kdGCJWUyWmB"
      }
    },
    {
      "cell_type": "code",
      "source": [
        "from sklearn.metrics import precision_recall_fscore_support\n",
        "\n",
        "# Parse quads from string format\n",
        "def parse_quads(s):\n",
        "    if pd.isna(s) or not s.strip():\n",
        "        return set()\n",
        "    return set(q.strip() for q in s.split(\"[SSEP]\"))\n",
        "\n",
        "# Extract sets\n",
        "eval_df[\"Gold_set\"] = eval_df[\"Gold_labels\"].apply(parse_quads)\n",
        "eval_df[\"Pred_set\"] = eval_df[\"Prediction_v4\"].apply(parse_quads)\n",
        "\n",
        "# Flatten to list of gold and predicted quads\n",
        "all_gold = set()\n",
        "all_pred = set()\n",
        "for _, row in eval_df.iterrows():\n",
        "    all_gold.update(row[\"Gold_set\"])\n",
        "    all_pred.update(row[\"Pred_set\"])\n",
        "\n",
        "# Compute TP, FP, FN\n",
        "tp = len(all_gold & all_pred)\n",
        "fp = len(all_pred - all_gold)\n",
        "fn = len(all_gold - all_pred)\n",
        "\n",
        "# Precision, Recall, F1\n",
        "precision = tp / (tp + fp) if (tp + fp) > 0 else 0.0\n",
        "recall = tp / (tp + fn) if (tp + fn) > 0 else 0.0\n",
        "f1 = 2 * precision * recall / (precision + recall) if (precision + recall) > 0 else 0.0\n",
        "\n",
        "print(f\"Per-Quad Precision: {precision:.3f}\")\n",
        "print(f\"Per-Quad Recall:    {recall:.3f}\")\n",
        "print(f\"Per-Quad F1 Score:  {f1:.3f}\")\n"
      ],
      "metadata": {
        "id": "d3hmnxNZyZAy",
        "colab": {
          "base_uri": "https://localhost:8080/"
        },
        "outputId": "c3e73e7b-b9d4-453c-c078-b78130ca7d97"
      },
      "execution_count": null,
      "outputs": [
        {
          "output_type": "stream",
          "name": "stdout",
          "text": [
            "Per-Quad Precision: 0.078\n",
            "Per-Quad Recall:    0.102\n",
            "Per-Quad F1 Score:  0.089\n"
          ]
        }
      ]
    },
    {
      "cell_type": "markdown",
      "source": [
        "# 3. Category Confusion Matrix"
      ],
      "metadata": {
        "id": "UsmT66IhyZWl"
      }
    },
    {
      "cell_type": "code",
      "source": [
        "import pandas as pd\n",
        "from sklearn.metrics import confusion_matrix, ConfusionMatrixDisplay\n",
        "import matplotlib.pyplot as plt\n",
        "\n",
        "# Reuse your parsing function from earlier\n",
        "def parse_quads(s):\n",
        "    if pd.isna(s) or not s.strip():\n",
        "        return []\n",
        "    return [q.strip() for q in s.split(\"[SSEP]\")]\n",
        "\n",
        "# Build long-form DataFrame from prediction column\n",
        "records = []\n",
        "\n",
        "for _, row in eval_df.iterrows():\n",
        "    review = row[\"Review Text\"]\n",
        "    gold_quads = parse_quads(row[\"Gold_labels\"])\n",
        "    pred_quads = parse_quads(row[\"Prediction_v4\"])\n",
        "\n",
        "    gold_terms_to_cat = {\n",
        "        q.split(\"##\")[0].strip(): q.split(\"##\")[1].strip()\n",
        "        for q in gold_quads\n",
        "    }\n",
        "\n",
        "    for q in pred_quads:\n",
        "        try:\n",
        "            aspect, pred_cat, _, _ = [x.strip() for x in q.split(\"##\")]\n",
        "        except ValueError:\n",
        "            continue  # skip malformed\n",
        "        gold_cat = gold_terms_to_cat.get(aspect, \"None\")  # gold category or None\n",
        "        records.append((gold_cat, pred_cat))\n",
        "\n",
        "# Create DataFrame\n",
        "cf_df = pd.DataFrame(records, columns=[\"Gold Category\", \"Predicted Category\"])\n",
        "\n",
        "# Filter to known categories\n",
        "categories = sorted(set(cf_df[\"Gold Category\"]) | set(cf_df[\"Predicted Category\"]))\n",
        "categories = [c for c in categories if c != \"None\"]\n",
        "\n",
        "# Build confusion matrix\n",
        "cm = confusion_matrix(cf_df[\"Gold Category\"], cf_df[\"Predicted Category\"], labels=categories)\n",
        "\n",
        "# Display\n",
        "disp = ConfusionMatrixDisplay(confusion_matrix=cm, display_labels=categories)\n",
        "fig, ax = plt.subplots(figsize=(8, 6))\n",
        "disp.plot(include_values=True, cmap=\"Blues\", ax=ax, xticks_rotation=45)\n",
        "plt.title(\"Aspect Category Confusion Matrix\")\n",
        "plt.tight_layout()\n",
        "plt.show()"
      ],
      "metadata": {
        "id": "bKkWN6lTyeDj",
        "colab": {
          "base_uri": "https://localhost:8080/",
          "height": 607
        },
        "outputId": "53c5e0dd-698b-44ce-c4d5-4af1d830e4cd",
        "collapsed": true
      },
      "execution_count": null,
      "outputs": [
        {
          "output_type": "display_data",
          "data": {
            "text/plain": [
              "<Figure size 800x600 with 2 Axes>"
            ],
            "image/png": "[encoded data removed]"
          },
          "metadata": {}
        }
      ]
    },
    {
      "cell_type": "code",
      "source": [
        "# Export confusion matrix as DataFrame\n",
        "cm_df = pd.DataFrame(cm, index=categories, columns=categories)\n",
        "cm_df.to_csv(\"/content/drive/MyDrive/acosqe/eval_outputs/category_confusion_matrix_v4_fix.csv\")"
      ],
      "metadata": {
        "id": "1YmsTjuhEKxu"
      },
      "execution_count": null,
      "outputs": []
    },
    {
      "cell_type": "markdown",
      "source": [
        "# 4. Component-Level Accuracy"
      ],
      "metadata": {
        "id": "iAL8ABxmyeRU"
      }
    },
    {
      "cell_type": "code",
      "source": [
        "def parse_quads(s):\n",
        "    if pd.isna(s) or not s.strip():\n",
        "        return []\n",
        "    return [q.strip() for q in s.split(\"[SSEP]\") if \"##\" in q]\n",
        "\n",
        "# Initialize lists\n",
        "component_hits = {\"aspect\": 0, \"category\": 0, \"opinion\": 0, \"sentiment\": 0}\n",
        "component_total = 0\n",
        "\n",
        "# For each review\n",
        "for _, row in eval_df.iterrows():\n",
        "    gold_quads = parse_quads(row[\"Gold_labels\"])\n",
        "    pred_quads = parse_quads(row[\"Prediction_v4\"])\n",
        "\n",
        "    # Convert gold to component tuples\n",
        "    gold_components = [tuple(g.split(\"##\")) for g in gold_quads]\n",
        "\n",
        "    for pred in pred_quads:\n",
        "        try:\n",
        "            aspect_p, cat_p, opin_p, sent_p = [x.strip() for x in pred.split(\"##\")]\n",
        "        except ValueError:\n",
        "            continue  # skip malformed prediction\n",
        "\n",
        "        best_match = None\n",
        "        best_score = 0\n",
        "\n",
        "        # Find best matching gold quad (by aspect + opinion overlap)\n",
        "        for gold in gold_components:\n",
        "            aspect_g, cat_g, opin_g, sent_g = gold\n",
        "            match_score = int(aspect_p == aspect_g) + int(opin_p == opin_g)  # simple heuristic\n",
        "            if match_score > best_score:\n",
        "                best_score = match_score\n",
        "                best_match = gold\n",
        "\n",
        "        if best_match:\n",
        "            aspect_g, cat_g, opin_g, sent_g = best_match\n",
        "            component_hits[\"aspect\"] += int(aspect_p == aspect_g)\n",
        "            component_hits[\"category\"] += int(cat_p == cat_g)\n",
        "            component_hits[\"opinion\"] += int(opin_p == opin_g)\n",
        "            component_hits[\"sentiment\"] += int(sent_p == sent_g)\n",
        "            component_total += 1\n",
        "\n",
        "# Compute accuracy per component\n",
        "for comp, hits in component_hits.items():\n",
        "    acc = hits / component_total if component_total > 0 else 0\n",
        "    print(f\"{comp.capitalize()} Accuracy: {acc:.3f}\")"
      ],
      "metadata": {
        "id": "FyPaoHhuyhtS",
        "colab": {
          "base_uri": "https://localhost:8080/"
        },
        "outputId": "1da4969c-03e7-419a-8741-09260a17e5e6"
      },
      "execution_count": null,
      "outputs": [
        {
          "output_type": "stream",
          "name": "stdout",
          "text": [
            "Aspect Accuracy: 0.761\n",
            "Category Accuracy: 0.750\n",
            "Opinion Accuracy: 0.523\n",
            "Sentiment Accuracy: 0.983\n"
          ]
        }
      ]
    },
    {
      "cell_type": "markdown",
      "source": [
        "# 5. Error Type Tagging"
      ],
      "metadata": {
        "id": "lxU-VQmqymxC"
      }
    },
    {
      "cell_type": "markdown",
      "source": [
        "- What: Manual or semi-automated classification into: undergeneration, hallucination, wrong sentiment, etc.\n",
        "\n",
        "- Why: Adds a rich qualitative layer for analysis."
      ],
      "metadata": {
        "id": "WQHRKD3P1DwN"
      }
    },
    {
      "cell_type": "code",
      "source": [
        "from collections import defaultdict\n",
        "import pandas as pd\n",
        "\n",
        "error_records = []\n",
        "\n",
        "def parse_quad_components(quad_str):\n",
        "    try:\n",
        "        a, c, o, s = [x.strip() for x in quad_str.split(\"##\")]\n",
        "        return a, c, o, s\n",
        "    except ValueError:\n",
        "        return None\n",
        "\n",
        "# Loop over each review\n",
        "for _, row in eval_df.iterrows():\n",
        "    gold_quads = parse_quads(row[\"Gold_labels\"])\n",
        "    pred_quads = parse_quads(row[\"Prediction_v4\"])\n",
        "\n",
        "    gold_set = set(gold_quads)\n",
        "    pred_set = set(pred_quads)\n",
        "\n",
        "    gold_components = [parse_quad_components(q) for q in gold_quads]\n",
        "    pred_components = [parse_quad_components(q) for q in pred_quads]\n",
        "\n",
        "    matched_gold = set()\n",
        "    matched_pred = set()\n",
        "\n",
        "    # First, check for exact matches\n",
        "    for i, pred in enumerate(pred_components):\n",
        "        if pred is None:\n",
        "            continue\n",
        "        if \"##\".join(pred) in gold_set:\n",
        "            error_records.append({\"Review Text\": row[\"Review Text\"], \"Prediction\": \"##\".join(pred), \"Error Type\": \"Correct\"})\n",
        "            matched_gold.add(\"##\".join(pred))\n",
        "            matched_pred.add(i)\n",
        "\n",
        "    # Now handle errors\n",
        "    for i, pred in enumerate(pred_components):\n",
        "        if i in matched_pred or pred is None:\n",
        "            continue\n",
        "        best_type = \"Hallucination\"\n",
        "        for g in gold_components:\n",
        "            if g is None:\n",
        "                continue\n",
        "            aspect_match = pred[0] == g[0]\n",
        "            category_match = pred[1] == g[1]\n",
        "            opinion_match = pred[2] == g[2]\n",
        "            sentiment_match = pred[3] == g[3]\n",
        "            match_score = aspect_match + category_match + opinion_match + sentiment_match\n",
        "            if match_score == 3:\n",
        "                if not sentiment_match:\n",
        "                    best_type = \"Wrong Sentiment\"\n",
        "                elif not category_match:\n",
        "                    best_type = \"Wrong Category\"\n",
        "                elif not (aspect_match and opinion_match):\n",
        "                    best_type = \"Wrong Aspect/Opinion\"\n",
        "                break\n",
        "        error_records.append({\n",
        "            \"Review Text\": row[\"Review Text\"],\n",
        "            \"Prediction\": \"##\".join(pred),\n",
        "            \"Error Type\": best_type\n",
        "        })\n",
        "\n",
        "    # Handle missing gold quads (Undergeneration)\n",
        "    for g in gold_set:\n",
        "        if g not in matched_gold:\n",
        "            error_records.append({\n",
        "                \"Review Text\": row[\"Review Text\"],\n",
        "                \"Prediction\": g,\n",
        "                \"Error Type\": \"Undergeneration\"\n",
        "            })"
      ],
      "metadata": {
        "id": "SadYzCdHyqX_"
      },
      "execution_count": null,
      "outputs": []
    },
    {
      "cell_type": "code",
      "source": [
        "error_df = pd.DataFrame(error_records)\n",
        "summary = error_df[\"Error Type\"].value_counts()\n",
        "print(summary)"
      ],
      "metadata": {
        "colab": {
          "base_uri": "https://localhost:8080/"
        },
        "id": "HjI75ti_HHmV",
        "outputId": "569ee13e-29ff-4e6d-e924-d5241a1b592b"
      },
      "execution_count": null,
      "outputs": [
        {
          "output_type": "stream",
          "name": "stdout",
          "text": [
            "Error Type\n",
            "Hallucination           352\n",
            "Undergeneration         326\n",
            "Wrong Aspect/Opinion     95\n",
            "Correct                  37\n",
            "Wrong Category           12\n",
            "Name: count, dtype: int64\n"
          ]
        }
      ]
    },
    {
      "cell_type": "code",
      "source": [
        "error_df.to_csv(\"/content/drive/MyDrive/acosqe/eval_outputs/Error_Type_Tagging_v4_fix.csv\", index=False)"
      ],
      "metadata": {
        "id": "zMeupj1aH0ep"
      },
      "execution_count": null,
      "outputs": []
    },
    {
      "cell_type": "markdown",
      "source": [
        "# 6. Partial Match Rate:"
      ],
      "metadata": {
        "id": "c5Wt324Hyqvh"
      }
    },
    {
      "cell_type": "code",
      "source": [
        "from collections import defaultdict\n",
        "\n",
        "partial_match_records = []\n",
        "\n",
        "for _, row in eval_df.iterrows():\n",
        "    gold_quads = parse_quads(row[\"Gold_labels\"])\n",
        "    pred_quads = parse_quads(row[\"Prediction_v4\"])\n",
        "\n",
        "    gold_components = [parse_quad_components(q) for q in gold_quads]\n",
        "    pred_components = [parse_quad_components(q) for q in pred_quads]\n",
        "\n",
        "    for pred in pred_components:\n",
        "        if pred is None:\n",
        "            continue\n",
        "        best_score = 0\n",
        "        for gold in gold_components:\n",
        "            if gold is None:\n",
        "                continue\n",
        "            score = sum([p == g for p, g in zip(pred, gold)])\n",
        "            if score > best_score:\n",
        "                best_score = score\n",
        "        partial_match_records.append(best_score)\n",
        "\n",
        "# Count match distribution\n",
        "from collections import Counter\n",
        "match_counts = Counter(partial_match_records)\n",
        "total_preds = len(partial_match_records)\n",
        "\n",
        "# Print partial match rate summary\n",
        "print(\"Partial Match Rate Breakdown (per predicted quad):\")\n",
        "for k in range(5):  # 0 to 4\n",
        "    count = match_counts.get(k, 0)\n",
        "    percent = count / total_preds * 100 if total_preds > 0 else 0\n",
        "    print(f\"{k}/4 match: {count} ({percent:.2f}%)\")"
      ],
      "metadata": {
        "id": "G0HsQyrQyu7D",
        "colab": {
          "base_uri": "https://localhost:8080/"
        },
        "outputId": "6b98f64c-c403-45de-dc38-2b20fc2d757e"
      },
      "execution_count": null,
      "outputs": [
        {
          "output_type": "stream",
          "name": "stdout",
          "text": [
            "Partial Match Rate Breakdown (per predicted quad):\n",
            "0/4 match: 4 (0.81%)\n",
            "1/4 match: 136 (27.42%)\n",
            "2/4 match: 212 (42.74%)\n",
            "3/4 match: 107 (21.57%)\n",
            "4/4 match: 37 (7.46%)\n"
          ]
        }
      ]
    },
    {
      "cell_type": "markdown",
      "source": [
        "Gold-Centric Partial Match"
      ],
      "metadata": {
        "id": "qBf5Be9652QY"
      }
    },
    {
      "cell_type": "code",
      "source": [
        "from collections import Counter\n",
        "\n",
        "def parse_quads(s):\n",
        "    if pd.isna(s) or not s.strip():\n",
        "        return []\n",
        "    return [q.strip() for q in s.split(\"[SSEP]\") if \"##\" in q]\n",
        "\n",
        "def parse_quad_components(quad_str):\n",
        "    try:\n",
        "        a, c, o, s = [x.strip() for x in quad_str.split(\"##\")]\n",
        "        return a, c, o, s\n",
        "    except ValueError:\n",
        "        return None\n",
        "\n",
        "gold_partial_scores = []\n",
        "\n",
        "for _, row in eval_df.iterrows():\n",
        "    gold_quads = parse_quads(row[\"Gold_labels\"])\n",
        "    pred_quads = parse_quads(row[\"Prediction_v4\"])\n",
        "\n",
        "    pred_components = [parse_quad_components(q) for q in pred_quads]\n",
        "    gold_components = [parse_quad_components(q) for q in gold_quads]\n",
        "\n",
        "    for gold in gold_components:\n",
        "        if gold is None:\n",
        "            continue\n",
        "        best_score = 0\n",
        "        for pred in pred_components:\n",
        "            if pred is None:\n",
        "                continue\n",
        "            score = sum([g == p for g, p in zip(gold, pred)])\n",
        "            if score > best_score:\n",
        "                best_score = score\n",
        "        gold_partial_scores.append(best_score)\n",
        "\n",
        "# Count match distribution\n",
        "from collections import Counter\n",
        "gold_match_counts = Counter(gold_partial_scores)\n",
        "total_gold = len(gold_partial_scores)\n",
        "\n",
        "# Print results\n",
        "print(\"Gold-Centric Partial Match Rate:\")\n",
        "for k in range(5):\n",
        "    count = gold_match_counts.get(k, 0)\n",
        "    percent = count / total_gold * 100 if total_gold > 0 else 0\n",
        "    print(f\"{k}/4 match: {count} ({percent:.2f}%)\")\n"
      ],
      "metadata": {
        "colab": {
          "base_uri": "https://localhost:8080/"
        },
        "id": "0d34xOhM5yvK",
        "outputId": "24507418-368d-463f-aa09-a1fb462ccd33"
      },
      "execution_count": null,
      "outputs": [
        {
          "output_type": "stream",
          "name": "stdout",
          "text": [
            "Gold-Centric Partial Match Rate:\n",
            "0/4 match: 5 (1.38%)\n",
            "1/4 match: 91 (25.07%)\n",
            "2/4 match: 138 (38.02%)\n",
            "3/4 match: 92 (25.34%)\n",
            "4/4 match: 37 (10.19%)\n"
          ]
        }
      ]
    },
    {
      "cell_type": "markdown",
      "source": [
        "| Metric              | v4 (leaked) | v4.1 (fair) |\n",
        "|---------------------|-------------|-------------|\n",
        "| Exact Match         | 0.0395      | 0.0226      |\n",
        "| Per-Quad Precision  | 0.104       | 0.078       |\n",
        "| Per-Quad Recall     | 0.139       | 0.102       |\n",
        "| Per-Quad F1         | 0.119       | 0.089       |\n",
        "| Aspect Accuracy     | 0.768       | 0.761       |\n",
        "| Category Accuracy   | 0.742       | 0.750       |\n",
        "| Opinion Accuracy    | 0.511       | 0.523       |\n",
        "| Sentiment Accuracy  | 0.957       | 0.983       |\n"
      ],
      "metadata": {
        "id": "KwREY9FKMxdT"
      }
    },
    {
      "cell_type": "markdown",
      "source": [
        "Model v4.1 was selected for final annotation of the Trustpilot corpus, as it demonstrated superior precision, recall, F1, and component accuracy under fair evaluation conditions. Unlike v5, which incorporated human-validated machine inferences, v4.1 was trained solely on manually annotated data, ensuring higher generalisation and interpretability. Its outputs were subsequently used to enrich the full dataset for Power BI visualisation."
      ],
      "metadata": {
        "id": "Ca8-JSGZQA3J"
      }
    },
    {
      "cell_type": "code",
      "source": [
        "df.head()"
      ],
      "metadata": {
        "id": "RBfEmBeORMFm"
      },
      "execution_count": null,
      "outputs": []
    },
    {
      "cell_type": "code",
      "source": [
        "print(raw_df.columns.tolist())\n"
      ],
      "metadata": {
        "colab": {
          "base_uri": "https://localhost:8080/"
        },
        "id": "iU59hh3FTz6l",
        "outputId": "c321f6a7-ecae-4587-b9ee-a33ebb842ffa"
      },
      "execution_count": null,
      "outputs": [
        {
          "output_type": "stream",
          "name": "stdout",
          "text": [
            "['ï»¿Review Text', 'Aspect Term', 'Aspect Category', 'Opinion Term', 'Sentiment Polarity', 'Done', 'Main', 'Human']\n"
          ]
        }
      ]
    },
    {
      "cell_type": "code",
      "source": [
        "\n",
        "# 1. Load Full Dataset\n",
        "\n",
        "\n",
        "# Load your cleaned, annotated dataset\n",
        "raw_df = pd.read_csv(\"/content/drive/MyDrive/acosqe/raw_data/Quad_Annotation_v5.csv\", encoding=\"ISO-8859-1\")\n",
        "raw_df.rename(columns={raw_df.columns[0]: \"Review Text\"}, inplace=True)\n",
        "# Filter to keep only unannotated reviews\n",
        "raw_df = raw_df[~raw_df[\"Done\"].isin([\"Y\"])]\n",
        "raw_df = raw_df[\"Review Text\"].dropna().drop_duplicates().astype(str).str.strip().reset_index(drop=True)\n",
        "\n",
        "# Create review-level DataFrame\n",
        "gold_review_df = pd.DataFrame({\"Review Text\": raw_df})\n",
        "\n",
        "gold_review_df.head()"
      ],
      "metadata": {
        "id": "VlmeLwUXQAg3"
      },
      "execution_count": null,
      "outputs": []
    },
    {
      "cell_type": "code",
      "source": [
        "from tqdm import tqdm\n",
        "import torch"
      ],
      "metadata": {
        "id": "ioGaCtONU1yC"
      },
      "execution_count": null,
      "outputs": []
    },
    {
      "cell_type": "code",
      "source": [
        "#\n",
        "# 2. Run v4.1 Predictions\n",
        "#\n",
        "# Chunked inference with batching\n",
        "BATCH_SIZE = 32\n",
        "predictions = []\n",
        "\n",
        "for i in tqdm(range(0, len(gold_review_df), BATCH_SIZE)):\n",
        "    batch = gold_review_df.iloc[i:i + BATCH_SIZE]\n",
        "    inputs = tokenizer(\n",
        "        batch[\"Prompted Review\"].tolist(),\n",
        "        return_tensors=\"pt\",\n",
        "        padding=True,\n",
        "        truncation=True\n",
        "    ).to(model.device)\n",
        "\n",
        "    with torch.no_grad():\n",
        "        outputs = model.generate(\n",
        "            input_ids=inputs[\"input_ids\"],\n",
        "            attention_mask=inputs[\"attention_mask\"],\n",
        "            max_length=256\n",
        "        )\n",
        "\n",
        "    decoded = tokenizer.batch_decode(outputs, skip_special_tokens=True)\n",
        "    predictions.extend(decoded)\n",
        "\n",
        "# 3.Save predictions to DataFrame\n",
        "gold_review_df[\"Predicted_Quads\"] = predictions\n",
        "gold_review_df.head()"
      ],
      "metadata": {
        "colab": {
          "base_uri": "https://localhost:8080/",
          "height": 743
        },
        "id": "9aOgvc34RmiL",
        "outputId": "73e83785-cfe7-49ab-efe0-836067adc068",
        "collapsed": true
      },
      "execution_count": null,
      "outputs": [
        {
          "output_type": "stream",
          "name": "stderr",
          "text": [
            "100%|██████████| 257/257 [09:09<00:00,  2.14s/it]\n"
          ]
        },
        {
          "output_type": "execute_result",
          "data": {
            "text/plain": [
              "                                         Review Text  \\\n",
              "0        Whas great, but take some time, to do that!   \n",
              "1  Very easy to do and the money was transferred ...   \n",
              "2  Pot transfer was a huge pain, caused by a very...   \n",
              "3  Impossible to use. Constantly locks you out. A...   \n",
              "4                        I would cancel that payment   \n",
              "\n",
              "                                     Prompted Review  \\\n",
              "0  Extract all aspect-category-opinion-sentiment ...   \n",
              "1  Extract all aspect-category-opinion-sentiment ...   \n",
              "2  Extract all aspect-category-opinion-sentiment ...   \n",
              "3  Extract all aspect-category-opinion-sentiment ...   \n",
              "4  Extract all aspect-category-opinion-sentiment ...   \n",
              "\n",
              "                                     Predicted_Quads  \n",
              "0  nan##Process & Onboarding##great##positive [SS...  \n",
              "1  transfer##Fund Management##easy##positive [SSE...  \n",
              "2  customer service##Customer Support##terrible##...  \n",
              "3  use##Website & Usability##impossible##negative...  \n",
              "4        payment##Fund Management##cancell##negative  "
            ],
            "text/html": [
              "\n",
              "  <div id=\"df-f6b71626-7f19-4d84-a478-7f783ae0e5b2\" class=\"colab-df-container\">\n",
              "    <div>\n",
              "<style scoped>\n",
              "    .dataframe tbody tr th:only-of-type {\n",
              "        vertical-align: middle;\n",
              "    }\n",
              "\n",
              "    .dataframe tbody tr th {\n",
              "        vertical-align: top;\n",
              "    }\n",
              "\n",
              "    .dataframe thead th {\n",
              "        text-align: right;\n",
              "    }\n",
              "</style>\n",
              "<table border=\"1\" class=\"dataframe\">\n",
              "  <thead>\n",
              "    <tr style=\"text-align: right;\">\n",
              "      <th></th>\n",
              "      <th>Review Text</th>\n",
              "      <th>Prompted Review</th>\n",
              "      <th>Predicted_Quads</th>\n",
              "    </tr>\n",
              "  </thead>\n",
              "  <tbody>\n",
              "    <tr>\n",
              "      <th>0</th>\n",
              "      <td>Whas great, but take some time, to do that!</td>\n",
              "      <td>Extract all aspect-category-opinion-sentiment ...</td>\n",
              "      <td>nan##Process &amp; Onboarding##great##positive [SS...</td>\n",
              "    </tr>\n",
              "    <tr>\n",
              "      <th>1</th>\n",
              "      <td>Very easy to do and the money was transferred ...</td>\n",
              "      <td>Extract all aspect-category-opinion-sentiment ...</td>\n",
              "      <td>transfer##Fund Management##easy##positive [SSE...</td>\n",
              "    </tr>\n",
              "    <tr>\n",
              "      <th>2</th>\n",
              "      <td>Pot transfer was a huge pain, caused by a very...</td>\n",
              "      <td>Extract all aspect-category-opinion-sentiment ...</td>\n",
              "      <td>customer service##Customer Support##terrible##...</td>\n",
              "    </tr>\n",
              "    <tr>\n",
              "      <th>3</th>\n",
              "      <td>Impossible to use. Constantly locks you out. A...</td>\n",
              "      <td>Extract all aspect-category-opinion-sentiment ...</td>\n",
              "      <td>use##Website &amp; Usability##impossible##negative...</td>\n",
              "    </tr>\n",
              "    <tr>\n",
              "      <th>4</th>\n",
              "      <td>I would cancel that payment</td>\n",
              "      <td>Extract all aspect-category-opinion-sentiment ...</td>\n",
              "      <td>payment##Fund Management##cancell##negative</td>\n",
              "    </tr>\n",
              "  </tbody>\n",
              "</table>\n",
              "</div>\n",
              "    <div class=\"colab-df-buttons\">\n",
              "\n",
              "  <div class=\"colab-df-container\">\n",
              "    <button class=\"colab-df-convert\" onclick=\"convertToInteractive('df-f6b71626-7f19-4d84-a478-7f783ae0e5b2')\"\n",
              "            title=\"Convert this dataframe to an interactive table.\"\n",
              "            style=\"display:none;\">\n",
              "\n",
              "  <svg xmlns=\"http://www.w3.org/2000/svg\" height=\"24px\" viewBox=\"0 -960 960 960\">\n",
              "    <path d=\"M120-120v-720h720v720H120Zm60-500h600v-160H180v160Zm220 220h160v-160H400v160Zm0 220h160v-160H400v160ZM180-400h160v-160H180v160Zm440 0h160v-160H620v160ZM180-180h160v-160H180v160Zm440 0h160v-160H620v160Z\"/>\n",
              "  </svg>\n",
              "    </button>\n",
              "\n",
              "  <style>\n",
              "    .colab-df-container {\n",
              "      display:flex;\n",
              "      gap: 12px;\n",
              "    }\n",
              "\n",
              "    .colab-df-convert {\n",
              "      background-color: #E8F0FE;\n",
              "      border: none;\n",
              "      border-radius: 50%;\n",
              "      cursor: pointer;\n",
              "      display: none;\n",
              "      fill: #1967D2;\n",
              "      height: 32px;\n",
              "      padding: 0 0 0 0;\n",
              "      width: 32px;\n",
              "    }\n",
              "\n",
              "    .colab-df-convert:hover {\n",
              "      background-color: #E2EBFA;\n",
              "      box-shadow: 0px 1px 2px rgba(60, 64, 67, 0.3), 0px 1px 3px 1px rgba(60, 64, 67, 0.15);\n",
              "      fill: #174EA6;\n",
              "    }\n",
              "\n",
              "    .colab-df-buttons div {\n",
              "      margin-bottom: 4px;\n",
              "    }\n",
              "\n",
              "    [theme=dark] .colab-df-convert {\n",
              "      background-color: #3B4455;\n",
              "      fill: #D2E3FC;\n",
              "    }\n",
              "\n",
              "    [theme=dark] .colab-df-convert:hover {\n",
              "      background-color: #434B5C;\n",
              "      box-shadow: 0px 1px 3px 1px rgba(0, 0, 0, 0.15);\n",
              "      filter: drop-shadow(0px 1px 2px rgba(0, 0, 0, 0.3));\n",
              "      fill: #FFFFFF;\n",
              "    }\n",
              "  </style>\n",
              "\n",
              "    <script>\n",
              "      const buttonEl =\n",
              "        document.querySelector('#df-f6b71626-7f19-4d84-a478-7f783ae0e5b2 button.colab-df-convert');\n",
              "      buttonEl.style.display =\n",
              "        google.colab.kernel.accessAllowed ? 'block' : 'none';\n",
              "\n",
              "      async function convertToInteractive(key) {\n",
              "        const element = document.querySelector('#df-f6b71626-7f19-4d84-a478-7f783ae0e5b2');\n",
              "        const dataTable =\n",
              "          await google.colab.kernel.invokeFunction('convertToInteractive',\n",
              "                                                    [key], {});\n",
              "        if (!dataTable) return;\n",
              "\n",
              "        const docLinkHtml = 'Like what you see? Visit the ' +\n",
              "          '<a target=\"_blank\" href=https://colab.research.google.com/notebooks/data_table.ipynb>data table notebook</a>'\n",
              "          + ' to learn more about interactive tables.';\n",
              "        element.innerHTML = '';\n",
              "        dataTable['output_type'] = 'display_data';\n",
              "        await google.colab.output.renderOutput(dataTable, element);\n",
              "        const docLink = document.createElement('div');\n",
              "        docLink.innerHTML = docLinkHtml;\n",
              "        element.appendChild(docLink);\n",
              "      }\n",
              "    </script>\n",
              "  </div>\n",
              "\n",
              "\n",
              "<div id=\"df-ce218397-f8fc-4fa2-928a-36652760e7f4\">\n",
              "  <button class=\"colab-df-quickchart\" onclick=\"quickchart('df-ce218397-f8fc-4fa2-928a-36652760e7f4')\"\n",
              "            title=\"Suggest charts\"\n",
              "            style=\"display:none;\">\n",
              "\n",
              "<svg xmlns=\"http://www.w3.org/2000/svg\" height=\"24px\"viewBox=\"0 0 24 24\"\n",
              "     width=\"24px\">\n",
              "    <g>\n",
              "        <path d=\"M19 3H5c-1.1 0-2 .9-2 2v14c0 1.1.9 2 2 2h14c1.1 0 2-.9 2-2V5c0-1.1-.9-2-2-2zM9 17H7v-7h2v7zm4 0h-2V7h2v10zm4 0h-2v-4h2v4z\"/>\n",
              "    </g>\n",
              "</svg>\n",
              "  </button>\n",
              "\n",
              "<style>\n",
              "  .colab-df-quickchart {\n",
              "      --bg-color: #E8F0FE;\n",
              "      --fill-color: #1967D2;\n",
              "      --hover-bg-color: #E2EBFA;\n",
              "      --hover-fill-color: #174EA6;\n",
              "      --disabled-fill-color: #AAA;\n",
              "      --disabled-bg-color: #DDD;\n",
              "  }\n",
              "\n",
              "  [theme=dark] .colab-df-quickchart {\n",
              "      --bg-color: #3B4455;\n",
              "      --fill-color: #D2E3FC;\n",
              "      --hover-bg-color: #434B5C;\n",
              "      --hover-fill-color: #FFFFFF;\n",
              "      --disabled-bg-color: #3B4455;\n",
              "      --disabled-fill-color: #666;\n",
              "  }\n",
              "\n",
              "  .colab-df-quickchart {\n",
              "    background-color: var(--bg-color);\n",
              "    border: none;\n",
              "    border-radius: 50%;\n",
              "    cursor: pointer;\n",
              "    display: none;\n",
              "    fill: var(--fill-color);\n",
              "    height: 32px;\n",
              "    padding: 0;\n",
              "    width: 32px;\n",
              "  }\n",
              "\n",
              "  .colab-df-quickchart:hover {\n",
              "    background-color: var(--hover-bg-color);\n",
              "    box-shadow: 0 1px 2px rgba(60, 64, 67, 0.3), 0 1px 3px 1px rgba(60, 64, 67, 0.15);\n",
              "    fill: var(--button-hover-fill-color);\n",
              "  }\n",
              "\n",
              "  .colab-df-quickchart-complete:disabled,\n",
              "  .colab-df-quickchart-complete:disabled:hover {\n",
              "    background-color: var(--disabled-bg-color);\n",
              "    fill: var(--disabled-fill-color);\n",
              "    box-shadow: none;\n",
              "  }\n",
              "\n",
              "  .colab-df-spinner {\n",
              "    border: 2px solid var(--fill-color);\n",
              "    border-color: transparent;\n",
              "    border-bottom-color: var(--fill-color);\n",
              "    animation:\n",
              "      spin 1s steps(1) infinite;\n",
              "  }\n",
              "\n",
              "  @keyframes spin {\n",
              "    0% {\n",
              "      border-color: transparent;\n",
              "      border-bottom-color: var(--fill-color);\n",
              "      border-left-color: var(--fill-color);\n",
              "    }\n",
              "    20% {\n",
              "      border-color: transparent;\n",
              "      border-left-color: var(--fill-color);\n",
              "      border-top-color: var(--fill-color);\n",
              "    }\n",
              "    30% {\n",
              "      border-color: transparent;\n",
              "      border-left-color: var(--fill-color);\n",
              "      border-top-color: var(--fill-color);\n",
              "      border-right-color: var(--fill-color);\n",
              "    }\n",
              "    40% {\n",
              "      border-color: transparent;\n",
              "      border-right-color: var(--fill-color);\n",
              "      border-top-color: var(--fill-color);\n",
              "    }\n",
              "    60% {\n",
              "      border-color: transparent;\n",
              "      border-right-color: var(--fill-color);\n",
              "    }\n",
              "    80% {\n",
              "      border-color: transparent;\n",
              "      border-right-color: var(--fill-color);\n",
              "      border-bottom-color: var(--fill-color);\n",
              "    }\n",
              "    90% {\n",
              "      border-color: transparent;\n",
              "      border-bottom-color: var(--fill-color);\n",
              "    }\n",
              "  }\n",
              "</style>\n",
              "\n",
              "  <script>\n",
              "    async function quickchart(key) {\n",
              "      const quickchartButtonEl =\n",
              "        document.querySelector('#' + key + ' button');\n",
              "      quickchartButtonEl.disabled = true;  // To prevent multiple clicks.\n",
              "      quickchartButtonEl.classList.add('colab-df-spinner');\n",
              "      try {\n",
              "        const charts = await google.colab.kernel.invokeFunction(\n",
              "            'suggestCharts', [key], {});\n",
              "      } catch (error) {\n",
              "        console.error('Error during call to suggestCharts:', error);\n",
              "      }\n",
              "      quickchartButtonEl.classList.remove('colab-df-spinner');\n",
              "      quickchartButtonEl.classList.add('colab-df-quickchart-complete');\n",
              "    }\n",
              "    (() => {\n",
              "      let quickchartButtonEl =\n",
              "        document.querySelector('#df-ce218397-f8fc-4fa2-928a-36652760e7f4 button');\n",
              "      quickchartButtonEl.style.display =\n",
              "        google.colab.kernel.accessAllowed ? 'block' : 'none';\n",
              "    })();\n",
              "  </script>\n",
              "</div>\n",
              "\n",
              "    </div>\n",
              "  </div>\n"
            ],
            "application/vnd.google.colaboratory.intrinsic+json": {
              "type": "dataframe",
              "variable_name": "gold_review_df",
              "summary": "{\n  \"name\": \"gold_review_df\",\n  \"rows\": 8193,\n  \"fields\": [\n    {\n      \"column\": \"Review Text\",\n      \"properties\": {\n        \"dtype\": \"string\",\n        \"num_unique_values\": 8193,\n        \"samples\": [\n          \"No annual statement sent by post and not showing in mailbox either\",\n          \"I transferred another pension to nest and this was such an easy process, at least now all my money is in one pension pot.\",\n          \"I found another pension so decided that I would combine it with my Nest account. The process was very straight forward and easy to follow. The money was transferred within a week.\"\n        ],\n        \"semantic_type\": \"\",\n        \"description\": \"\"\n      }\n    },\n    {\n      \"column\": \"Prompted Review\",\n      \"properties\": {\n        \"dtype\": \"string\",\n        \"num_unique_values\": 8193,\n        \"samples\": [\n          \"Extract all aspect-category-opinion-sentiment quadruples from the following review. Format each as: aspect##category##opinion##sentiment. Use [SSEP] to separate multiple quads.\\n\\nNo annual statement sent by post and not showing in mailbox either\",\n          \"Extract all aspect-category-opinion-sentiment quadruples from the following review. Format each as: aspect##category##opinion##sentiment. Use [SSEP] to separate multiple quads.\\n\\nI transferred another pension to nest and this was such an easy process, at least now all my money is in one pension pot.\",\n          \"Extract all aspect-category-opinion-sentiment quadruples from the following review. Format each as: aspect##category##opinion##sentiment. Use [SSEP] to separate multiple quads.\\n\\nI found another pension so decided that I would combine it with my Nest account. The process was very straight forward and easy to follow. The money was transferred within a week.\"\n        ],\n        \"semantic_type\": \"\",\n        \"description\": \"\"\n      }\n    },\n    {\n      \"column\": \"Predicted_Quads\",\n      \"properties\": {\n        \"dtype\": \"string\",\n        \"num_unique_values\": 7803,\n        \"samples\": [\n          \"interface for nest pensions website##Website & Usability##hard to see##negative [SSEP] value##Fund Management##disappointing##negative [SSEP] total##Transparency & Communication##hard to know##negative [SSEP] tax situation##Fund Management##really unclear##negative [SSEP] information##Transparency & Communication##no##negative [SSEP] pot##Fund Management##growing over time##negative [SSEP] information##Transparency & Communication##no##negative [SSEP] information##Transparency & Communication##not very proactive##negative [SSEP] information##Transparency & Communication##not very unclear##negative [SSEP] pension pot##Fund Management##not very important##negative [SSEP] tax situation##Trust & Reliability##not very unclear##negative [SSEP] information##Transparency & Communication##no##negative [SSEP] information##Transparency & Communication##growing over time##negative [SSEP] information##Transparency & Communication##no##negative [SSEP] information##Transparency &\",\n          \"additional contributions##Fund Management##easy##positive\",\n          \"system##Website & Usability##comprehensible and friendly to use##positive [SSEP] service##Customer Support##excellent##positive\"\n        ],\n        \"semantic_type\": \"\",\n        \"description\": \"\"\n      }\n    }\n  ]\n}"
            }
          },
          "metadata": {},
          "execution_count": 64
        }
      ]
    },
    {
      "cell_type": "code",
      "source": [
        "gold_review_df.drop(columns=['Prompted Review'], inplace=True)"
      ],
      "metadata": {
        "id": "ixol1QCRaH1G"
      },
      "execution_count": null,
      "outputs": []
    },
    {
      "cell_type": "code",
      "source": [
        "from psutil import virtual_memory\n",
        "ram_gb = virtual_memory().total / 1e9\n",
        "print(f\"Your runtime has {ram_gb:.1f} GB of available RAM\")"
      ],
      "metadata": {
        "colab": {
          "base_uri": "https://localhost:8080/"
        },
        "id": "j3BL4FpwUPX-",
        "outputId": "538122b0-35c8-4cc9-f8ab-3bf399f3544d"
      },
      "execution_count": null,
      "outputs": [
        {
          "output_type": "stream",
          "name": "stdout",
          "text": [
            "Your runtime has 13.6 GB of available RAM\n"
          ]
        }
      ]
    },
    {
      "cell_type": "markdown",
      "source": [
        "Add a Review ID in Python (before exporting) !!!"
      ],
      "metadata": {
        "id": "y8orV1lBWHRi"
      }
    },
    {
      "cell_type": "code",
      "source": [
        "# Load your review-level prediction dataframe\n",
        "df = pd.read_csv(\"/content/drive/MyDrive/acosqe/raw_data/Quad_Annotation_v5.csv\", encoding=\"ISO-8859-1\")\n",
        "df.rename(columns={df.columns[0]: \"Review Text\"}, inplace=True)\n",
        "# Drop rows where predictions are missing\n",
        "df = df[df[\"Done\"].isin([\"Y\",\"AUTO\"])]\n",
        "df.head()"
      ],
      "metadata": {
        "id": "e0KdYTQLWIg7"
      },
      "execution_count": null,
      "outputs": []
    },
    {
      "cell_type": "code",
      "source": [
        "# Split on [SSEP] into separate ACOS strings\n",
        "gold_review_df[\"Predicted_Quads\"] = predictions\n",
        "gold_review_df.head()"
      ],
      "metadata": {
        "colab": {
          "base_uri": "https://localhost:8080/",
          "height": 206
        },
        "id": "Pnt9psfpahPe",
        "outputId": "73ef6e7b-7d0c-4d34-c2ab-189d089fcf9b",
        "collapsed": true
      },
      "execution_count": null,
      "outputs": [
        {
          "output_type": "execute_result",
          "data": {
            "text/plain": [
              "                                         Review Text  \\\n",
              "0        Whas great, but take some time, to do that!   \n",
              "1  Very easy to do and the money was transferred ...   \n",
              "2  Pot transfer was a huge pain, caused by a very...   \n",
              "3  Impossible to use. Constantly locks you out. A...   \n",
              "4                        I would cancel that payment   \n",
              "\n",
              "                                     Predicted_Quads  \n",
              "0  nan##Process & Onboarding##great##positive [SS...  \n",
              "1  transfer##Fund Management##easy##positive [SSE...  \n",
              "2  customer service##Customer Support##terrible##...  \n",
              "3  use##Website & Usability##impossible##negative...  \n",
              "4        payment##Fund Management##cancell##negative  "
            ],
            "text/html": [
              "\n",
              "  <div id=\"df-da309ac3-99df-4352-a4e6-53494d1b04f3\" class=\"colab-df-container\">\n",
              "    <div>\n",
              "<style scoped>\n",
              "    .dataframe tbody tr th:only-of-type {\n",
              "        vertical-align: middle;\n",
              "    }\n",
              "\n",
              "    .dataframe tbody tr th {\n",
              "        vertical-align: top;\n",
              "    }\n",
              "\n",
              "    .dataframe thead th {\n",
              "        text-align: right;\n",
              "    }\n",
              "</style>\n",
              "<table border=\"1\" class=\"dataframe\">\n",
              "  <thead>\n",
              "    <tr style=\"text-align: right;\">\n",
              "      <th></th>\n",
              "      <th>Review Text</th>\n",
              "      <th>Predicted_Quads</th>\n",
              "    </tr>\n",
              "  </thead>\n",
              "  <tbody>\n",
              "    <tr>\n",
              "      <th>0</th>\n",
              "      <td>Whas great, but take some time, to do that!</td>\n",
              "      <td>nan##Process &amp; Onboarding##great##positive [SS...</td>\n",
              "    </tr>\n",
              "    <tr>\n",
              "      <th>1</th>\n",
              "      <td>Very easy to do and the money was transferred ...</td>\n",
              "      <td>transfer##Fund Management##easy##positive [SSE...</td>\n",
              "    </tr>\n",
              "    <tr>\n",
              "      <th>2</th>\n",
              "      <td>Pot transfer was a huge pain, caused by a very...</td>\n",
              "      <td>customer service##Customer Support##terrible##...</td>\n",
              "    </tr>\n",
              "    <tr>\n",
              "      <th>3</th>\n",
              "      <td>Impossible to use. Constantly locks you out. A...</td>\n",
              "      <td>use##Website &amp; Usability##impossible##negative...</td>\n",
              "    </tr>\n",
              "    <tr>\n",
              "      <th>4</th>\n",
              "      <td>I would cancel that payment</td>\n",
              "      <td>payment##Fund Management##cancell##negative</td>\n",
              "    </tr>\n",
              "  </tbody>\n",
              "</table>\n",
              "</div>\n",
              "    <div class=\"colab-df-buttons\">\n",
              "\n",
              "  <div class=\"colab-df-container\">\n",
              "    <button class=\"colab-df-convert\" onclick=\"convertToInteractive('df-da309ac3-99df-4352-a4e6-53494d1b04f3')\"\n",
              "            title=\"Convert this dataframe to an interactive table.\"\n",
              "            style=\"display:none;\">\n",
              "\n",
              "  <svg xmlns=\"http://www.w3.org/2000/svg\" height=\"24px\" viewBox=\"0 -960 960 960\">\n",
              "    <path d=\"M120-120v-720h720v720H120Zm60-500h600v-160H180v160Zm220 220h160v-160H400v160Zm0 220h160v-160H400v160ZM180-400h160v-160H180v160Zm440 0h160v-160H620v160ZM180-180h160v-160H180v160Zm440 0h160v-160H620v160Z\"/>\n",
              "  </svg>\n",
              "    </button>\n",
              "\n",
              "  <style>\n",
              "    .colab-df-container {\n",
              "      display:flex;\n",
              "      gap: 12px;\n",
              "    }\n",
              "\n",
              "    .colab-df-convert {\n",
              "      background-color: #E8F0FE;\n",
              "      border: none;\n",
              "      border-radius: 50%;\n",
              "      cursor: pointer;\n",
              "      display: none;\n",
              "      fill: #1967D2;\n",
              "      height: 32px;\n",
              "      padding: 0 0 0 0;\n",
              "      width: 32px;\n",
              "    }\n",
              "\n",
              "    .colab-df-convert:hover {\n",
              "      background-color: #E2EBFA;\n",
              "      box-shadow: 0px 1px 2px rgba(60, 64, 67, 0.3), 0px 1px 3px 1px rgba(60, 64, 67, 0.15);\n",
              "      fill: #174EA6;\n",
              "    }\n",
              "\n",
              "    .colab-df-buttons div {\n",
              "      margin-bottom: 4px;\n",
              "    }\n",
              "\n",
              "    [theme=dark] .colab-df-convert {\n",
              "      background-color: #3B4455;\n",
              "      fill: #D2E3FC;\n",
              "    }\n",
              "\n",
              "    [theme=dark] .colab-df-convert:hover {\n",
              "      background-color: #434B5C;\n",
              "      box-shadow: 0px 1px 3px 1px rgba(0, 0, 0, 0.15);\n",
              "      filter: drop-shadow(0px 1px 2px rgba(0, 0, 0, 0.3));\n",
              "      fill: #FFFFFF;\n",
              "    }\n",
              "  </style>\n",
              "\n",
              "    <script>\n",
              "      const buttonEl =\n",
              "        document.querySelector('#df-da309ac3-99df-4352-a4e6-53494d1b04f3 button.colab-df-convert');\n",
              "      buttonEl.style.display =\n",
              "        google.colab.kernel.accessAllowed ? 'block' : 'none';\n",
              "\n",
              "      async function convertToInteractive(key) {\n",
              "        const element = document.querySelector('#df-da309ac3-99df-4352-a4e6-53494d1b04f3');\n",
              "        const dataTable =\n",
              "          await google.colab.kernel.invokeFunction('convertToInteractive',\n",
              "                                                    [key], {});\n",
              "        if (!dataTable) return;\n",
              "\n",
              "        const docLinkHtml = 'Like what you see? Visit the ' +\n",
              "          '<a target=\"_blank\" href=https://colab.research.google.com/notebooks/data_table.ipynb>data table notebook</a>'\n",
              "          + ' to learn more about interactive tables.';\n",
              "        element.innerHTML = '';\n",
              "        dataTable['output_type'] = 'display_data';\n",
              "        await google.colab.output.renderOutput(dataTable, element);\n",
              "        const docLink = document.createElement('div');\n",
              "        docLink.innerHTML = docLinkHtml;\n",
              "        element.appendChild(docLink);\n",
              "      }\n",
              "    </script>\n",
              "  </div>\n",
              "\n",
              "\n",
              "<div id=\"df-cf25b886-1e2d-47c5-a473-0172741e9c4b\">\n",
              "  <button class=\"colab-df-quickchart\" onclick=\"quickchart('df-cf25b886-1e2d-47c5-a473-0172741e9c4b')\"\n",
              "            title=\"Suggest charts\"\n",
              "            style=\"display:none;\">\n",
              "\n",
              "<svg xmlns=\"http://www.w3.org/2000/svg\" height=\"24px\"viewBox=\"0 0 24 24\"\n",
              "     width=\"24px\">\n",
              "    <g>\n",
              "        <path d=\"M19 3H5c-1.1 0-2 .9-2 2v14c0 1.1.9 2 2 2h14c1.1 0 2-.9 2-2V5c0-1.1-.9-2-2-2zM9 17H7v-7h2v7zm4 0h-2V7h2v10zm4 0h-2v-4h2v4z\"/>\n",
              "    </g>\n",
              "</svg>\n",
              "  </button>\n",
              "\n",
              "<style>\n",
              "  .colab-df-quickchart {\n",
              "      --bg-color: #E8F0FE;\n",
              "      --fill-color: #1967D2;\n",
              "      --hover-bg-color: #E2EBFA;\n",
              "      --hover-fill-color: #174EA6;\n",
              "      --disabled-fill-color: #AAA;\n",
              "      --disabled-bg-color: #DDD;\n",
              "  }\n",
              "\n",
              "  [theme=dark] .colab-df-quickchart {\n",
              "      --bg-color: #3B4455;\n",
              "      --fill-color: #D2E3FC;\n",
              "      --hover-bg-color: #434B5C;\n",
              "      --hover-fill-color: #FFFFFF;\n",
              "      --disabled-bg-color: #3B4455;\n",
              "      --disabled-fill-color: #666;\n",
              "  }\n",
              "\n",
              "  .colab-df-quickchart {\n",
              "    background-color: var(--bg-color);\n",
              "    border: none;\n",
              "    border-radius: 50%;\n",
              "    cursor: pointer;\n",
              "    display: none;\n",
              "    fill: var(--fill-color);\n",
              "    height: 32px;\n",
              "    padding: 0;\n",
              "    width: 32px;\n",
              "  }\n",
              "\n",
              "  .colab-df-quickchart:hover {\n",
              "    background-color: var(--hover-bg-color);\n",
              "    box-shadow: 0 1px 2px rgba(60, 64, 67, 0.3), 0 1px 3px 1px rgba(60, 64, 67, 0.15);\n",
              "    fill: var(--button-hover-fill-color);\n",
              "  }\n",
              "\n",
              "  .colab-df-quickchart-complete:disabled,\n",
              "  .colab-df-quickchart-complete:disabled:hover {\n",
              "    background-color: var(--disabled-bg-color);\n",
              "    fill: var(--disabled-fill-color);\n",
              "    box-shadow: none;\n",
              "  }\n",
              "\n",
              "  .colab-df-spinner {\n",
              "    border: 2px solid var(--fill-color);\n",
              "    border-color: transparent;\n",
              "    border-bottom-color: var(--fill-color);\n",
              "    animation:\n",
              "      spin 1s steps(1) infinite;\n",
              "  }\n",
              "\n",
              "  @keyframes spin {\n",
              "    0% {\n",
              "      border-color: transparent;\n",
              "      border-bottom-color: var(--fill-color);\n",
              "      border-left-color: var(--fill-color);\n",
              "    }\n",
              "    20% {\n",
              "      border-color: transparent;\n",
              "      border-left-color: var(--fill-color);\n",
              "      border-top-color: var(--fill-color);\n",
              "    }\n",
              "    30% {\n",
              "      border-color: transparent;\n",
              "      border-left-color: var(--fill-color);\n",
              "      border-top-color: var(--fill-color);\n",
              "      border-right-color: var(--fill-color);\n",
              "    }\n",
              "    40% {\n",
              "      border-color: transparent;\n",
              "      border-right-color: var(--fill-color);\n",
              "      border-top-color: var(--fill-color);\n",
              "    }\n",
              "    60% {\n",
              "      border-color: transparent;\n",
              "      border-right-color: var(--fill-color);\n",
              "    }\n",
              "    80% {\n",
              "      border-color: transparent;\n",
              "      border-right-color: var(--fill-color);\n",
              "      border-bottom-color: var(--fill-color);\n",
              "    }\n",
              "    90% {\n",
              "      border-color: transparent;\n",
              "      border-bottom-color: var(--fill-color);\n",
              "    }\n",
              "  }\n",
              "</style>\n",
              "\n",
              "  <script>\n",
              "    async function quickchart(key) {\n",
              "      const quickchartButtonEl =\n",
              "        document.querySelector('#' + key + ' button');\n",
              "      quickchartButtonEl.disabled = true;  // To prevent multiple clicks.\n",
              "      quickchartButtonEl.classList.add('colab-df-spinner');\n",
              "      try {\n",
              "        const charts = await google.colab.kernel.invokeFunction(\n",
              "            'suggestCharts', [key], {});\n",
              "      } catch (error) {\n",
              "        console.error('Error during call to suggestCharts:', error);\n",
              "      }\n",
              "      quickchartButtonEl.classList.remove('colab-df-spinner');\n",
              "      quickchartButtonEl.classList.add('colab-df-quickchart-complete');\n",
              "    }\n",
              "    (() => {\n",
              "      let quickchartButtonEl =\n",
              "        document.querySelector('#df-cf25b886-1e2d-47c5-a473-0172741e9c4b button');\n",
              "      quickchartButtonEl.style.display =\n",
              "        google.colab.kernel.accessAllowed ? 'block' : 'none';\n",
              "    })();\n",
              "  </script>\n",
              "</div>\n",
              "\n",
              "    </div>\n",
              "  </div>\n"
            ],
            "application/vnd.google.colaboratory.intrinsic+json": {
              "type": "dataframe",
              "variable_name": "gold_review_df",
              "summary": "{\n  \"name\": \"gold_review_df\",\n  \"rows\": 8193,\n  \"fields\": [\n    {\n      \"column\": \"Review Text\",\n      \"properties\": {\n        \"dtype\": \"string\",\n        \"num_unique_values\": 8193,\n        \"samples\": [\n          \"No annual statement sent by post and not showing in mailbox either\",\n          \"I transferred another pension to nest and this was such an easy process, at least now all my money is in one pension pot.\",\n          \"I found another pension so decided that I would combine it with my Nest account. The process was very straight forward and easy to follow. The money was transferred within a week.\"\n        ],\n        \"semantic_type\": \"\",\n        \"description\": \"\"\n      }\n    },\n    {\n      \"column\": \"Predicted_Quads\",\n      \"properties\": {\n        \"dtype\": \"string\",\n        \"num_unique_values\": 7803,\n        \"samples\": [\n          \"interface for nest pensions website##Website & Usability##hard to see##negative [SSEP] value##Fund Management##disappointing##negative [SSEP] total##Transparency & Communication##hard to know##negative [SSEP] tax situation##Fund Management##really unclear##negative [SSEP] information##Transparency & Communication##no##negative [SSEP] pot##Fund Management##growing over time##negative [SSEP] information##Transparency & Communication##no##negative [SSEP] information##Transparency & Communication##not very proactive##negative [SSEP] information##Transparency & Communication##not very unclear##negative [SSEP] pension pot##Fund Management##not very important##negative [SSEP] tax situation##Trust & Reliability##not very unclear##negative [SSEP] information##Transparency & Communication##no##negative [SSEP] information##Transparency & Communication##growing over time##negative [SSEP] information##Transparency & Communication##no##negative [SSEP] information##Transparency &\",\n          \"additional contributions##Fund Management##easy##positive\",\n          \"system##Website & Usability##comprehensible and friendly to use##positive [SSEP] service##Customer Support##excellent##positive\"\n        ],\n        \"semantic_type\": \"\",\n        \"description\": \"\"\n      }\n    }\n  ]\n}"
            }
          },
          "metadata": {},
          "execution_count": 79
        }
      ]
    },
    {
      "cell_type": "code",
      "source": [
        "#   Helper functions from your partial match code\n",
        "def parse_quads(s):\n",
        "    if pd.isna(s) or not s.strip():\n",
        "        return []\n",
        "    return [q.strip() for q in s.split(\"[SSEP]\") if \"##\" in q]\n",
        "\n",
        "def parse_quad_components(quad_str):\n",
        "    try:\n",
        "        a, c, o, s = [x.strip() for x in quad_str.split(\"##\")]\n",
        "        return a, c, o, s\n",
        "    except ValueError:\n",
        "        return None\n",
        "\n",
        "#   Parse all predictions into rows\n",
        "records = []\n",
        "\n",
        "for idx, row in gold_review_df.iterrows():\n",
        "    review_text = row[\"Review Text\"]\n",
        "    quad_strings = parse_quads(row[\"Predicted_Quads\"])\n",
        "\n",
        "    for quad in quad_strings:\n",
        "        components = parse_quad_components(quad)\n",
        "        if components is None:\n",
        "            continue  # skip malformed\n",
        "        a, c, o, s = components\n",
        "        records.append({\n",
        "            \"Review ID\": idx + 1,\n",
        "            \"Review Text\": review_text,\n",
        "            \"Aspect Term\": a,\n",
        "            \"Aspect Category\": c,\n",
        "            \"Opinion Term\": o,\n",
        "            \"Sentiment Polarity\": s,\n",
        "            \"Source\": \"Model\"\n",
        "        })\n"
      ],
      "metadata": {
        "id": "73qHPwgjX28J"
      },
      "execution_count": null,
      "outputs": []
    },
    {
      "cell_type": "code",
      "source": [
        "# Convert to DataFrame\n",
        "df_aspect_level = pd.DataFrame(records)\n",
        "df_aspect_level.head()"
      ],
      "metadata": {
        "id": "6YkVTj7OjWio"
      },
      "execution_count": null,
      "outputs": []
    },
    {
      "cell_type": "markdown",
      "source": [
        "add date and time"
      ],
      "metadata": {
        "id": "-CmVdYCXmGqJ"
      }
    },
    {
      "cell_type": "code",
      "source": [
        "scraped_df = pd.read_csv(\"/content/drive/MyDrive/acosqe/raw_data/trustpilot_reviews_combined.csv\")\n",
        "\n",
        "# Re Preprocessing\n",
        "# Normalize text to help match reviews\n",
        "df_aspect_level['Review Text'] = df_aspect_level['Review Text'].str.strip().str.lower()\n",
        "scraped_df['Review Text'] = scraped_df['Review Text'].str.strip().str.lower()\n"
      ],
      "metadata": {
        "id": "edMaMA8AmIP3"
      },
      "execution_count": null,
      "outputs": []
    },
    {
      "cell_type": "code",
      "source": [
        "scraped_df.head()"
      ],
      "metadata": {
        "id": "NJNvPUDznoRl"
      },
      "execution_count": null,
      "outputs": []
    },
    {
      "cell_type": "code",
      "source": [
        "# Then Merge on Review Text (Left Join otherwise messy)\n",
        "merged_df = pd.merge(df_aspect_level, scraped_df, on='Review Text', how='left')\n",
        "\n",
        "# Finally Inspect Missing Metadata\n",
        "missing = merged_df[merged_df['Rating'].isnull()]\n",
        "print(f\"Reviews missing star rating after merge: {len(missing)}\")\n",
        "merged_df.head()\n"
      ],
      "metadata": {
        "id": "K6eO94cZm1aA"
      },
      "execution_count": null,
      "outputs": []
    },
    {
      "cell_type": "code",
      "source": [
        "# Save to file\n",
        "merged_df.to_csv(\"/content/drive/MyDrive/acosqe/raw_data/PowerBI.csv\", index=False)"
      ],
      "metadata": {
        "id": "2_aFbAQWjbRW"
      },
      "execution_count": null,
      "outputs": []
    }
  ]
}
